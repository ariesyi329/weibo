{
 "metadata": {
  "name": "",
  "signature": "sha256:104d722d47659c4fe2fe332bad52150ffe291b032efb6c486d7d7f25608cbd93"
 },
 "nbformat": 3,
 "nbformat_minor": 0,
 "worksheets": [
  {
   "cells": [
    {
     "cell_type": "code",
     "collapsed": false,
     "input": [
      "import numpy as np\n",
      "import pandas as pd\n",
      "import shapefile\n",
      "import matplotlib.pyplot as plt\n",
      "from mpl_toolkits.basemap import Basemap"
     ],
     "language": "python",
     "metadata": {},
     "outputs": [],
     "prompt_number": 1
    },
    {
     "cell_type": "code",
     "collapsed": false,
     "input": [
      "from matplotlib.patches import Polygon\n",
      "from matplotlib.collections import PatchCollection\n",
      "from matplotlib.patches import PathPatch"
     ],
     "language": "python",
     "metadata": {},
     "outputs": [],
     "prompt_number": 5
    },
    {
     "cell_type": "code",
     "collapsed": false,
     "input": [
      "provinfo = pd.read_csv('../data/provinfo')"
     ],
     "language": "python",
     "metadata": {},
     "outputs": [],
     "prompt_number": 2
    },
    {
     "cell_type": "code",
     "collapsed": false,
     "input": [
      "provinfo = provinfo.drop('Unnamed: 0',1)"
     ],
     "language": "python",
     "metadata": {},
     "outputs": [],
     "prompt_number": 3
    },
    {
     "cell_type": "code",
     "collapsed": false,
     "input": [
      "fig = plt.figure(figsize=(11.7,8.3))\n",
      "#Custom adjust of the subplots\n",
      "plt.subplots_adjust(left=0.05,right=0.95,top=0.90,bottom=0.05,wspace=0.15,hspace=0.05)\n",
      "ax = plt.subplot(111)\n",
      "#Let's create a basemap around Belgium\n",
      "m = Basemap(resolution='i',projection='merc', llcrnrlat=18.0,urcrnrlat=54.0,llcrnrlon=73.0,urcrnrlon=135.0)\n",
      "m.drawcountries(linewidth=0.5, color = \"#d9d9d9\")\n",
      "m.drawcoastlines(linewidth=0.35, color = \"#d9d9d9\")\n",
      "\n",
      "m.fillcontinents(color = '#e0e0e0', alpha = 0.5)\n",
      "\n",
      "m.drawparallels(np.arange(18.,54.,10.),labels=[1,0,0,0],color='grey',dashes=[1,1],labelstyle='+/-',linewidth=0.2) # draw parallels\n",
      "m.drawmeridians(np.arange(73.,135.,10.),labels=[0,0,0,1],color='grey',dashes=[1,1],labelstyle='+/-',linewidth=0.2) # draw meridians\n",
      "m.readshapefile(shapefile='../data/CHN_adm/CHN_adm0', name='china', linewidth=1.0, color='dimgrey')\n",
      "m.readshapefile(shapefile='../data/CHN_adm/CHN_adm1', name='province', linewidth=0.5, color='#d9d9d9')\n",
      "\n",
      "maxsize = 40\n",
      "minsize = 5\n",
      "maxcount = max(provinfo['count'])\n",
      "mincount = min(provinfo['count'])\n",
      "for i in range(0,len(provinfo)):\n",
      "    llt = provinfo.iloc[i]['longitude']\n",
      "    lat = provinfo.iloc[i]['latitude']\n",
      "    name = provinfo.iloc[i]['Province']\n",
      "    x,y = m(llt,lat)\n",
      "    count = provinfo.iloc[i]['count']\n",
      "    size = minsize + (count-mincount)*(maxsize-minsize)/float(maxcount-mincount)\n",
      "    m.plot(x, y, marker = 'o', markersize=size, markerfacecolor = 'skyblue', markeredgecolor = 'skyblue')\n",
      "    plt.text(x,y,name,fontsize=10,color = 'dimgrey', alpha = 0.7)\n",
      "\n",
      "\n",
      "    \n",
      "plt.title('''Kit's Fans Geo Distribution''', fontsize=24, y=1.025)\n",
      "plt.savefig('../results/geo.png', bbox_inches='tight', pad_inches = 0.5, dpi=300)"
     ],
     "language": "python",
     "metadata": {},
     "outputs": [],
     "prompt_number": 4
    },
    {
     "cell_type": "code",
     "collapsed": false,
     "input": [
      "fig = plt.figure(figsize=(11.7,8.3))\n",
      "#Custom adjust of the subplots\n",
      "plt.subplots_adjust(left=0.05,right=0.95,top=0.90,bottom=0.05,wspace=0.15,hspace=0.05)\n",
      "ax = plt.subplot(111)\n",
      "#Let's create a basemap around Belgium\n",
      "m = Basemap(resolution='i',projection='merc', llcrnrlat=18.0,urcrnrlat=54.0,llcrnrlon=73.0,urcrnrlon=135.0)\n",
      "m.drawcountries(linewidth=0.5, color = \"#d9d9d9\")\n",
      "m.drawcoastlines(linewidth=0.35, color = \"#d9d9d9\")\n",
      "\n",
      "m.fillcontinents(color = '#e0e0e0', alpha = 0.5)\n",
      "\n",
      "m.drawparallels(np.arange(18.,54.,10.),labels=[1,0,0,0],color='grey',dashes=[1,1],labelstyle='+/-',linewidth=0.2) # draw parallels\n",
      "m.drawmeridians(np.arange(73.,135.,10.),labels=[0,0,0,1],color='grey',dashes=[1,1],labelstyle='+/-',linewidth=0.2) # draw meridians\n",
      "m.readshapefile(shapefile='../data/CHN_adm/CHN_adm0', name='china', linewidth=1.0, color='dimgrey')\n",
      "m.readshapefile(shapefile='../data/CHN_adm/CHN_adm1', name='province', drawbounds = False)\n",
      "\n",
      "\n",
      "maxalpha = 1.0\n",
      "minalpha = 0.25\n",
      "maxcount = max(provinfo['count'])\n",
      "mincount = min(provinfo['count'])\n",
      "\n",
      "for i in range(0,len(provinfo)):\n",
      "    llt = provinfo.iloc[i]['longitude']\n",
      "    lat = provinfo.iloc[i]['latitude']\n",
      "    name = provinfo.iloc[i]['Province']\n",
      "    count = provinfo.iloc[i]['count']\n",
      "    x,y = m(llt,lat)\n",
      "    alpha = minalpha + (count-mincount)*(maxalpha-minalpha)/float(maxcount-mincount)\n",
      "    patches = []\n",
      "    for info, shape in zip(m.province_info, m.province):\n",
      "        if info['NAME_1'] == name:\n",
      "            patches.append(Polygon(np.array(shape), True))\n",
      "    ax.add_collection(PatchCollection(patches, facecolor= '#fc8d62', edgecolor='w', linewidths=1., alpha=alpha, zorder=2))\n",
      "    plt.text(x,y,name,fontsize=10,color = 'dimgrey', alpha = 0.7)\n",
      "\n",
      "\n",
      "    \n",
      "plt.title('''Kit's Fans Geo Distribution''', fontsize=24, y=1.025)\n",
      "plt.savefig('../results/geo1.png', bbox_inches='tight', pad_inches = 0.5, dpi=300)"
     ],
     "language": "python",
     "metadata": {},
     "outputs": [],
     "prompt_number": 6
    },
    {
     "cell_type": "code",
     "collapsed": false,
     "input": [],
     "language": "python",
     "metadata": {},
     "outputs": []
    }
   ],
   "metadata": {}
  }
 ]
}